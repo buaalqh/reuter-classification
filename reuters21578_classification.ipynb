{
 "cells": [
  {
   "cell_type": "markdown",
   "metadata": {},
   "source": [
    "# Reuters-21578 News classification\n",
    "\n",
    "Reuters-21578 is arguably the most commonly used collection for text classification. It contains structured information about newswire articles that can be assigned to several classes, making it a multi-label problem. \n",
    "It has a highly skewed distribution of documents over categories, where a large proportion of documents belong to few topics. The collection originally consisted of 21,578 documents but a subset and split is traditionally used. \n",
    "The most common split is Mod-Apte which only considers categories that have at least one document in the training set and the test set. The Mod-Apte split has 90 categories with a training set of 7769 documents and a test set of 3019 documents."
   ]
  },
  {
   "cell_type": "markdown",
   "metadata": {},
   "source": [
    "## 1. Data Cleaning -  Data Preparation\n",
    "\n",
    "### 1.1 Introduction\n",
    "\n",
    "This part goes through a necessary step of any data science project - data cleaning. Data cleaning is a time consuming and unenjoyable task. Feeding dirty data into a model will give us results that are meaningless.\n",
    "\n",
    "Processing:\n",
    "\n",
    "* Getting the data - in this case, we'll be scraping data from the 22 sgm files containing the 21 578 Reuters articles\n",
    "* Cleaning the data - we will walk through popular text pre-processing techniques\n",
    "* Organizing the data - we will organize the cleaned data into a way that is easy to input into other algorithms\n",
    "\n",
    "The output of this part - organized data in two standard text formats:\n",
    "\n",
    "* Corpus - a collection of text;\n",
    "* Document-Term Matrix - word counts in matrix format"
   ]
  },
  {
   "cell_type": "markdown",
   "metadata": {},
   "source": [
    "### 1.2 Problem Statement\n",
    "\n",
    "The Reuters-21578 dataset contains 21 578 financial articles tagged with topics.\n",
    "There are 135 different topics, but this exercise will focus on only 5 of them:\n",
    "-\tMoney/Foreign Exchange (MONEY-FX)\n",
    "-\tShipping (SHIP)\n",
    "-\tInterest Rates (INTEREST)\n",
    "-\tMergers/Acquisitions (ACQ)\n",
    "-\tEarnings and Earnings Forecasts (EARN)\n",
    "\n",
    "So this is a supervised classification, we do not need to use topic modelling techniques for modelling topics form data."
   ]
  },
  {
   "cell_type": "markdown",
   "metadata": {},
   "source": [
    "### 1.3 Getting The Data\n",
    "\n",
    "There are two ways to get the reuter21578 data:\n",
    "\n",
    "Download the collection and parse the multiple SGML files in order to recreate the original dataset;\n",
    "Or, much easier way with the NLTK library which has the reuters corpus already available. \n",
    "\n",
    "Libraies:\n",
    "Using BeautifulSoup libray to help us pick out certain sections from sgml files;\n",
    "and csv for serialize python objects to save data for later.\n",
    "\n",
    "The following code shows how to deal with the original dataset:\n"
   ]
  },
  {
   "cell_type": "code",
   "execution_count": 48,
   "metadata": {},
   "outputs": [],
   "source": [
    "from bs4 import BeautifulSoup\n",
    "import pandas as pd\n",
    "import csv\n",
    "\n",
    "# Category files\n",
    "category_files = { 'to_': ('Topics', 'all-topics-strings.lc.txt')}\n",
    "\n",
    "def sgm_to_transcript():\n",
    "    article_dict = {}\n",
    "    i = 0\n",
    "    list_of_data_num = []\n",
    "    for j in range(0,22):\n",
    "        if j < 10:\n",
    "            list_of_data_num.append(\"00\" + str(j))\n",
    "        else:\n",
    "            list_of_data_num.append(\"0\" + str(j))\n",
    "\n",
    "    # Loop for all articles from sgml files for getting their date, title and corpus\n",
    "    path_reuter = \"C:/Users/LQH/Desktop/CA CIB/reuters21578/reut2-\"\n",
    "    for num in list_of_data_num:\n",
    "        try:\n",
    "            soup = BeautifulSoup(open(path_reuter + num + \".sgm\"), features='lxml')\n",
    "        except:\n",
    "            continue\n",
    "        #print(num)\n",
    "        # each articles starts with <REUTERS>\n",
    "        data_reuters = soup.find_all('reuters')\n",
    "        for data in data_reuters: \n",
    "            article_dict[i] = {}\n",
    "\n",
    "            # < DATE >，< /DATE >[ONCE，SAMPLE]: Indicating the date/time of the current document;\n",
    "            for date in data.find_all('date'):\n",
    "                try:\n",
    "                    article_dict[i][\"date\"] = str(date.contents[0]).strip()\n",
    "                except:\n",
    "                    article_dict[i][\"date\"] = None\n",
    "                # print(date.contents[0])\n",
    "\n",
    "            #< TITLE >，< /TITLE >: Indicating the title of the current document.\n",
    "            for title in data.find_all('title'):\n",
    "                article_dict[i][\"title\"] = str(title.contents[0]).strip()\n",
    "                # print(title.contents)\n",
    "                \n",
    "            for text in data.find_all('topics'):\n",
    "                try:\n",
    "                    article_dict[i][\"topics\"] = str(topic.contents[0]).strip()\n",
    "                except:\n",
    "                    article_dict[i][\"topics\"] = None\n",
    "                \n",
    "            # < TEXT >，< /TEXT >[ONCE]：Representing the text information in the current document.    \n",
    "            for text in data.find_all('text'):\n",
    "                try:\n",
    "                    article_dict[i][\"text\"] = str(text.contents[4]).strip()\n",
    "                except:\n",
    "                    article_dict[i][\"text\"] = None\n",
    "            i += 1\n",
    "\n",
    "    print(\"Extract articles with bs4 in soup done.\")\n",
    "\n",
    "    dataframe_article = pd.DataFrame(article_dict).T\n",
    "    print(dataframe_article.head())\n",
    "    dataframe_article.to_csv('articles_data.csv', header=True, index=False, quoting=csv.QUOTE_ALL)"
   ]
  },
  {
   "cell_type": "code",
   "execution_count": 49,
   "metadata": {},
   "outputs": [
    {
     "name": "stdout",
     "output_type": "stream",
     "text": [
      "Extract articles with bs4 in soup done.\n",
      "                      date                                             title  \\\n",
      "0  26-FEB-1987 15:01:01.79                                BAHIA COCOA REVIEW   \n",
      "1  26-FEB-1987 15:02:20.00         STANDARD OIL <SRD> TO FORM FINANCIAL UNIT   \n",
      "2  26-FEB-1987 15:03:27.51        TEXAS COMMERCE BANCSHARES <TCB> FILES PLAN   \n",
      "3  26-FEB-1987 15:07:13.72      TALKING POINT/BANKAMERICA <BAC> EQUITY OFFER   \n",
      "4  26-FEB-1987 15:10:44.60  NATIONAL AVERAGE PRICES FOR FARMER-OWNED RESERVE   \n",
      "\n",
      "  topics                                               text  \n",
      "0   None  Showers continued throughout the week in\\nthe ...  \n",
      "1   None  Standard Oil Co and BP North America\\nInc said...  \n",
      "2   None  Texas Commerce Bancshares Inc's Texas\\nCommerc...  \n",
      "3   None                                                     \n",
      "4   None  The U.S. Agriculture Department\\nreported the ...  \n"
     ]
    }
   ],
   "source": [
    "sgm_to_transcript()"
   ]
  },
  {
   "cell_type": "markdown",
   "metadata": {},
   "source": [
    "### 1.4 Cleaning The Data\n",
    "\n",
    "When dealing with numerical data, data cleaning often involves removing null values and duplicate data, dealing with outliers, etc. With text data, there are some common data cleaning techniques, which are also known as text pre-processing techniques.\n",
    "\n",
    "We're going to execute just the common cleaning steps here:\n",
    "- Make text all lower case\n",
    "- Remove punctuation\n",
    "- Remove numerical values\n",
    "- Remove common non-sensical text (/n)\n",
    "- Tokenize text\n",
    "- Remove stop words\n",
    "\n",
    "More data cleaning steps after tokenization:\n",
    "\n",
    "- Stemming / lemmatization\n",
    "- Parts of speech tagging\n",
    "- Create bi-grams or tri-grams\n",
    "- Deal with typos\n",
    "And more..."
   ]
  },
  {
   "cell_type": "code",
   "execution_count": 32,
   "metadata": {},
   "outputs": [
    {
     "name": "stdout",
     "output_type": "stream",
     "text": [
      "Empty value in articles_data:\n",
      "date        0\n",
      "title     733\n",
      "text     3277\n",
      "dtype: int64\n",
      "Data cleaned:\n",
      "   index                     date  \\\n",
      "0      0  26-FEB-1987 15:01:01.79   \n",
      "1      1  26-FEB-1987 15:02:20.00   \n",
      "2      2  26-FEB-1987 15:03:27.51   \n",
      "3      4  26-FEB-1987 15:10:44.60   \n",
      "4      5  26-FEB-1987 15:14:36.41   \n",
      "\n",
      "                                              title  \\\n",
      "0                                BAHIA COCOA REVIEW   \n",
      "1         STANDARD OIL <SRD> TO FORM FINANCIAL UNIT   \n",
      "2        TEXAS COMMERCE BANCSHARES <TCB> FILES PLAN   \n",
      "3  NATIONAL AVERAGE PRICES FOR FARMER-OWNED RESERVE   \n",
      "4     ARGENTINE 1986/87 GRAIN/OILSEED REGISTRATIONS   \n",
      "\n",
      "                                                text  \\\n",
      "0  Showers continued throughout the week in\\nthe ...   \n",
      "1  Standard Oil Co and BP North America\\nInc said...   \n",
      "2  Texas Commerce Bancshares Inc's Texas\\nCommerc...   \n",
      "3  The U.S. Agriculture Department\\nreported the ...   \n",
      "4  Argentine grain board figures show\\ncrop regis...   \n",
      "\n",
      "                                          text_clean  \n",
      "0  showers continued throughout the week inthe ba...  \n",
      "1  standard oil co and bp north americainc said t...  \n",
      "2  texas commerce bancshares incs texascommerce b...  \n",
      "3  the us agriculture departmentreported the farm...  \n",
      "4  argentine grain board figures showcrop registr...  \n"
     ]
    },
    {
     "name": "stderr",
     "output_type": "stream",
     "text": [
      "C:\\app\\Anaconda\\lib\\site-packages\\ipykernel_launcher.py:23: SettingWithCopyWarning: \n",
      "A value is trying to be set on a copy of a slice from a DataFrame.\n",
      "Try using .loc[row_indexer,col_indexer] = value instead\n",
      "\n",
      "See the caveats in the documentation: http://pandas.pydata.org/pandas-docs/stable/user_guide/indexing.html#returning-a-view-versus-a-copy\n"
     ]
    }
   ],
   "source": [
    "#python library for regular expressions basically a way to search for patterns\n",
    "import re\n",
    "import pandas as pd \n",
    "import string\n",
    "\n",
    "articles_data = pd.read_csv('C:/Users/LQH/Desktop/CA CIB/articles_data.csv') \n",
    "#removing empty value in text column, the following code will also remove the other colunms values\n",
    "print(\"Empty value in articles_data:\")\n",
    "print(articles_data.apply(lambda x: sum(x.isnull()))) \n",
    "articles_nonEmpty = articles_data.dropna(subset=['text']) \n",
    "articles_nonEmpty.reset_index(inplace=True)\n",
    "#print(articles_nonEmpty.head())\n",
    "\n",
    "#Make text lowercase, remove text in square brackets,remove punctuation, remove \\n and remove words containing numbers.\n",
    "def clean_text(text):\n",
    "    text = text.lower()\n",
    "    text = re.sub('<.*?>+', '', text)\n",
    "    text = re.sub('[%s]' % re.escape(string.punctuation), '', text)\n",
    "    text = re.sub('\\n', '', text)\n",
    "    text = re.sub('\\w*\\d\\w*', '', text)\n",
    "    return text\n",
    "\n",
    "articles_nonEmpty['text_clean']=articles_nonEmpty['text'].apply(lambda x:clean_text(x))\n",
    "print(\"Data cleaned:\")\n",
    "print(articles_nonEmpty.head())"
   ]
  },
  {
   "cell_type": "markdown",
   "metadata": {},
   "source": [
    "### 1.5 Organizing The Data"
   ]
  },
  {
   "cell_type": "code",
   "execution_count": 47,
   "metadata": {},
   "outputs": [
    {
     "name": "stdout",
     "output_type": "stream",
     "text": [
      "              index   word_length\n",
      "count  17301.000000  17301.000000\n",
      "mean   10082.070401    114.024507\n",
      "std     5950.353055     96.497821\n",
      "min        0.000000      1.000000\n",
      "25%     4918.000000     53.000000\n",
      "50%     9919.000000     86.000000\n",
      "75%    15435.000000    146.000000\n",
      "max    20577.000000   1668.000000\n",
      "17301\n",
      "12112\n"
     ]
    },
    {
     "name": "stderr",
     "output_type": "stream",
     "text": [
      "C:\\app\\Anaconda\\lib\\site-packages\\ipykernel_launcher.py:3: SettingWithCopyWarning: \n",
      "A value is trying to be set on a copy of a slice from a DataFrame.\n",
      "Try using .loc[row_indexer,col_indexer] = value instead\n",
      "\n",
      "See the caveats in the documentation: http://pandas.pydata.org/pandas-docs/stable/user_guide/indexing.html#returning-a-view-versus-a-copy\n",
      "  This is separate from the ipykernel package so we can avoid doing imports until\n"
     ]
    },
    {
     "data": {
      "image/png": "[encoded data removed]",
      "text/plain": [
       "<Figure size 864x432 with 1 Axes>"
      ]
     },
     "metadata": {
      "needs_background": "light"
     },
     "output_type": "display_data"
    }
   ],
   "source": [
    "from matplotlib import pyplot as plt\n",
    "import seaborn as sns\n",
    "articles_nonEmpty['word_length'] = articles_nonEmpty['text'].apply(lambda x: len(str(x).split())) \n",
    "print(articles_nonEmpty.describe())\n",
    "articles_word_limit = articles_nonEmpty[articles_nonEmpty['word_length'] > 60]\n",
    "print(len(articles_nonEmpty))\n",
    "print(len(articles_word_limit))\n",
    "plt.figure(figsize=(12,6)) \n",
    "p1=sns.kdeplot(articles_nonEmpty['word_length'], shade=True, color=\"r\")\\\n",
    "    .set_title('Kernel Distribution of Number Of words')"
   ]
  },
  {
   "cell_type": "code",
   "execution_count": null,
   "metadata": {},
   "outputs": [],
   "source": []
  }
 ],
 "metadata": {
  "kernelspec": {
   "display_name": "Python 3",
   "language": "python",
   "name": "python3"
  },
  "language_info": {
   "codemirror_mode": {
    "name": "ipython",
    "version": 3
   },
   "file_extension": ".py",
   "mimetype": "text/x-python",
   "name": "python",
   "nbconvert_exporter": "python",
   "pygments_lexer": "ipython3",
   "version": "3.7.4"
  }
 },
 "nbformat": 4,
 "nbformat_minor": 2
}
